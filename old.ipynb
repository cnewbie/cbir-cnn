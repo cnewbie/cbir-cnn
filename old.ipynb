{
 "cells": [
  {
   "cell_type": "code",
   "execution_count": 19,
   "metadata": {},
   "outputs": [
    {
     "name": "stdout",
     "output_type": "stream",
     "text": [
      "The autoreload extension is already loaded. To reload it, use:\n",
      "  %reload_ext autoreload\n"
     ]
    }
   ],
   "source": [
    "import os\n",
    "import time\n",
    "import numpy as np\n",
    "import matplotlib.pyplot as plt\n",
    "%matplotlib inline\n",
    "plt.rcParams['figure.figsize'] = (16.0, 16.0)\n",
    "plt.rcParams['image.interpolation'] = 'nearest'\n",
    "\n",
    "\n",
    "%load_ext autoreload\n",
    "%autoreload 2"
   ]
  },
  {
   "cell_type": "code",
   "execution_count": 20,
   "metadata": {},
   "outputs": [],
   "source": [
    "#import \n",
    "from cbir.model import get_model\n",
    "from cbir.features import extract_raw_features\n",
    "from cbir.utils import load_image, get_list, load_npy_files, covert_data_format\n",
    "from cbir.utils import run_feature_processing_pipeline\n",
    "from cbir.crow import apply_crow_aggregation\n",
    "from cbir.query import compute_distances, compute_cosin_distance\n",
    "from cbir.rmac import apply_rmac_aggregation\n",
    "from cbir.utils import result_ap, result_precision, get_list_set\n",
    "from cbir.query import simple_query_expansion, reranking\n",
    "\n",
    "model = get_model()\n",
    "img_path='/home/jy/dataset/fabric_dataset/train'\n",
    "raw_out_path='/home/jy/results/raw/fabric'\n",
    "crow_out_path='/home/jy/results/crow/fabric'\n",
    "rmac_out_path='/home/jy/results/rmac/fabric'\n",
    "rank_file = '/home/jy/dataset/fabric_dataset/ground_truth.txt'\n",
    "query_file_path = '/home/jy/dataset/fabric_dataset/query.txt'"
   ]
  },
  {
   "cell_type": "code",
   "execution_count": 24,
   "metadata": {
    "scrolled": true
   },
   "outputs": [
    {
     "name": "stdout",
     "output_type": "stream",
     "text": [
      "total number: 990 \n",
      "process 0.00 .... time elapse: 0.00 s\n",
      "process 10.10 .... time elapse: 5.07 s\n",
      "process 20.20 .... time elapse: 10.03 s\n",
      "process 30.30 .... time elapse: 15.04 s\n",
      "process 40.40 .... time elapse: 20.03 s\n",
      "process 50.51 .... time elapse: 24.99 s\n",
      "process 60.61 .... time elapse: 30.03 s\n",
      "process 70.71 .... time elapse: 35.07 s\n",
      "process 80.81 .... time elapse: 40.15 s\n",
      "process 90.91 .... time elapse: 45.24 s\n",
      "total time : 49.823053 s\n"
     ]
    }
   ],
   "source": [
    "#extract features\n",
    "img_list = get_list(img_path)\n",
    "print('total number: %d ' % len(img_list))\n",
    "t_start = time.time()\n",
    "for i,file_path in enumerate(img_list):\n",
    "    if i % 100 == 0:\n",
    "        print('process %.2f .... time elapse: %.2f s' % ((i/(len(img_list)))*100,\n",
    "                                                      (time.time()-t_start)))\n",
    "        #print(file_path)    \n",
    "    \n",
    "    img = load_image(file_path,(512,512))\n",
    "    # layer block5\n",
    "    raw_feature = extract_raw_features(model,img)\n",
    "    #print(raw_feature.shape)\n",
    "    #np.save(os.path.join(raw_out_path,os.path.basename(file_path).split('.')[0]), raw_feature)\n",
    "    \n",
    "    cvt_raw_feature = covert_data_format(raw_feature)\n",
    "    #print(cvt_raw_feature.shape)\n",
    "    \n",
    "    # crow feature\n",
    "    crow_feature = apply_crow_aggregation(cvt_raw_feature)\n",
    "    #print(crow_feature.shape,crow_feature[0,:10])\n",
    "    #np.save(os.path.join(crow_out_path,os.path.basename(file_path).split('.')[0]), crow_feature)\n",
    "\n",
    "    # rmac feature\n",
    "    rmac_feature = apply_rmac_aggregation(cvt_raw_feature)\n",
    "    #print(rmac_feature.shape,rmac_feature[1,:10])\n",
    "    np.save(os.path.join(rmac_out_path,os.path.basename(file_path).split('.')[0]), rmac_feature)\n",
    "    \n",
    "print('total time : %f s' % ((time.time()-t_start),))\n",
    "del t_start\n",
    "del img_list"
   ]
  },
  {
   "cell_type": "code",
   "execution_count": 25,
   "metadata": {},
   "outputs": [
    {
     "name": "stdout",
     "output_type": "stream",
     "text": [
      "successful loading of npy file !!!\n",
      "successful loading of npy file !!!\n",
      "load time 0.706952 s\n"
     ]
    }
   ],
   "source": [
    "#load features from file\n",
    "t_start = time.time()\n",
    "crow_features_list = get_list(crow_out_path, 'npy')\n",
    "rmac_features_list = get_list(rmac_out_path, 'npy')\n",
    "\n",
    "crow_features,crow_files = load_npy_files(crow_features_list)\n",
    "rmac_features,rmac_files = load_npy_files(rmac_features_list)\n",
    "print('load time %f s' % (time.time() - t_start,))\n",
    "#print(rmac_features[0][:10], rmac_files[1])\n",
    "#print(crow_features[0][:10], crow_files[1])\n",
    "del t_start\n",
    "del crow_features_list\n",
    "del rmac_features_list"
   ]
  },
  {
   "cell_type": "code",
   "execution_count": 26,
   "metadata": {},
   "outputs": [],
   "source": [
    "#ground truth \n",
    "img_list = get_list(img_path)\n",
    "rank = 0\n",
    "rank_type = dict()\n",
    "final_dict = dict()\n",
    "for i in img_list:\n",
    "    tmp = os.path.splitext(os.path.basename(i))[0]\n",
    "    prefix_file = tmp.split('_')[0]\n",
    "    if rank_type.get(prefix_file) is None:\n",
    "        rank_type[prefix_file] = rank\n",
    "        rank = rank + 1\n",
    "    final_dict[os.path.basename(tmp)] = rank \n",
    "\n",
    "#save to file    \n",
    "#with open(rank_file, 'w') as f:\n",
    "#    f.writelines([k+' '+str(v)+ '\\n' for k,v in sorted(final_dict.items())])\n",
    "\n",
    "# clear memory \n",
    "del img_list\n",
    "del rank\n",
    "del rank_type"
   ]
  },
  {
   "cell_type": "code",
   "execution_count": 27,
   "metadata": {},
   "outputs": [
    {
     "name": "stdout",
     "output_type": "stream",
     "text": [
      "total query image 165\n",
      "(165, 512)\n",
      "(165, 512)\n",
      "time elapse: 4.002818 s\n"
     ]
    }
   ],
   "source": [
    "#load query list\n",
    "query_list=list()\n",
    "query_crow_features=list()\n",
    "query_rmac_features=list()\n",
    "#model=get_model()\n",
    "t_start = time.time()\n",
    "with open(query_file_path,'r') as f:\n",
    "    for i in f.readlines():\n",
    "        #print(i,end='')\n",
    "        query_list.append(i.split('.jpg')[0])\n",
    "        img = load_image(os.path.join(img_path,i.strip()))\n",
    "        raw_feature = extract_raw_features(model,img)\n",
    "        cvt_raw_feature = covert_data_format(raw_feature)\n",
    "        crow_feature = apply_crow_aggregation(cvt_raw_feature)\n",
    "        rmac_feature = apply_rmac_aggregation(cvt_raw_feature)\n",
    "        query_crow_features.append(crow_feature)\n",
    "        query_rmac_features.append(rmac_feature)\n",
    "print('total query image %d' % (len(query_list),))\n",
    "#print(query_list[0])\n",
    "#print(len(query_crow_features))\n",
    "#print(len(query_rmac_features))\n",
    "query_crow_features = np.vstack(query_crow_features)\n",
    "query_rmac_features = np.vstack(query_rmac_features)\n",
    "print(query_crow_features.shape)\n",
    "print(query_rmac_features.shape)\n",
    "all_query_crow_features = query_crow_features\n",
    "all_query_rmac_features = query_rmac_features\n",
    "\n",
    "print('time elapse: %f s' % (time.time() - t_start,))\n",
    "del t_start"
   ]
  },
  {
   "cell_type": "code",
   "execution_count": 46,
   "metadata": {},
   "outputs": [
    {
     "name": "stdout",
     "output_type": "stream",
     "text": [
      "(990, 256)\n",
      "(990, 256)\n",
      "PCA(copy=True, iterated_power='auto', n_components=256, random_state=None,\n",
      "  svd_solver='auto', tol=0.0, whiten=True)\n",
      "PCA(copy=True, iterated_power='auto', n_components=256, random_state=None,\n",
      "  svd_solver='auto', tol=0.0, whiten=True)\n",
      "(165, 256)\n",
      "(165, 256)\n"
     ]
    }
   ],
   "source": [
    "#do pca \n",
    "do_pca=True\n",
    "pca_dims = 256\n",
    "\n",
    "all_crow_features = crow_features\n",
    "all_rmac_features = rmac_features\n",
    "\n",
    "\n",
    "if do_pca:\n",
    "    crow_pca_features, crow_pca_params = run_feature_processing_pipeline(crow_features,\n",
    "                                                                        d = pca_dims,\n",
    "                                                                        copy = True)\n",
    "    rmac_pca_features, rmac_pca_params = run_feature_processing_pipeline(rmac_features,\n",
    "                                                                        d = pca_dims,\n",
    "                                                                        copy = True)\n",
    "    all_crow_features = crow_pca_features\n",
    "    all_rmac_features = rmac_pca_features\n",
    "    print(crow_pca_features.shape)\n",
    "    print(rmac_pca_features.shape)\n",
    "    print(crow_pca_params['pca'])\n",
    "    print(rmac_pca_params['pca'])\n",
    "    \n",
    "    \n",
    "    query_crow_pca_features, _ = run_feature_processing_pipeline(query_crow_features,\n",
    "                                                                        d = pca_dims,\n",
    "                                                                        copy = True,\n",
    "                                                                        params=crow_pca_params)\n",
    "    query_rmac_pca_features, _ = run_feature_processing_pipeline(query_rmac_features,\n",
    "                                                                        d = pca_dims,\n",
    "                                                                        copy = True,\n",
    "                                                                        params=rmac_pca_params)\n",
    "    all_query_crow_features = query_crow_pca_features\n",
    "    all_query_rmac_features = query_rmac_pca_features\n",
    "    print(query_crow_pca_features.shape)\n",
    "    print(query_rmac_pca_features.shape)"
   ]
  },
  {
   "cell_type": "code",
   "execution_count": 47,
   "metadata": {},
   "outputs": [
    {
     "name": "stdout",
     "output_type": "stream",
     "text": [
      "mAP 0.149433\n"
     ]
    }
   ],
   "source": [
    "#distance compute\n",
    "\n",
    "do_QE = True\n",
    "do_RE = False\n",
    "topK = 10\n",
    "aps=list()\n",
    "\n",
    "for i, f in enumerate(all_query_crow_features):\n",
    "    idxs, rank_dists, rank_names = compute_cosin_distance([f], all_crow_features, crow_files)\n",
    "    pos,neg = get_list_set(query_list[i],final_dict)\n",
    "    #print('    query name : %s' % query_list[i])\n",
    "    #print(pos,len(neg))\n",
    "    #print(rank_names[:10])\n",
    "    #print('ap: %f ' % (result_precision(pos,neg,rank_names[:100]),))\n",
    "    if do_QE:\n",
    "        Q = simple_query_expansion([f], all_crow_features, idxs, top_k=topK)\n",
    "        #print(Q.shape)\n",
    "        #idxs, rank_dists, rank_names = compute_distances(Q, crow_features, crow_files)\n",
    "        idxs, rank_dists, rank_names = compute_cosin_distance(Q, all_crow_features, crow_files)\n",
    "        #print(rank_names[:topK])\n",
    "        #ap = result_precision(pos,neg,rank_names[:topK])\n",
    "        ap = result_ap(pos,neg,rank_names[:topK])\n",
    "        #print('    qe ap: %f ' % (ap,))\n",
    "    \n",
    "    if do_RE:\n",
    "        rank_names = reranking(Q, all_crow_features, idxs, rank_names)\n",
    "        #print(rank_names[:10])\n",
    "        #ap = result_precision(pos,neg,rank_names[:topK])\n",
    "        ap = result_ap(pos,neg,rank_names[:topK])\n",
    "        #print('rerank ap: %f ' % (ap,))\n",
    "    aps.append(ap)\n",
    "    #print('query name: %s , ap %f ' %(query_list[i],ap))\n",
    "\n",
    "print('mAP %f' % (np.array(aps).sum()/len(aps),))"
   ]
  },
  {
   "cell_type": "code",
   "execution_count": 48,
   "metadata": {},
   "outputs": [
    {
     "name": "stdout",
     "output_type": "stream",
     "text": [
      "mAP 0.119072\n"
     ]
    }
   ],
   "source": [
    "#distance compute\n",
    "\n",
    "do_QE = True\n",
    "do_RE = False\n",
    "topK = 10\n",
    "aps=list()\n",
    "\n",
    "for i, f in enumerate(all_query_rmac_features):\n",
    "    idxs, rank_dists, rank_names = compute_cosin_distance([f], all_rmac_features, rmac_files)\n",
    "    pos,neg = get_list_set(query_list[i],final_dict)\n",
    "    #print('    query name : %s' % query_list[i])\n",
    "    #print(pos,len(neg))\n",
    "    #print(rank_names[:10])\n",
    "    #print('ap: %f ' % (result_precision(pos,neg,rank_names[:topK]),))\n",
    "    if do_QE:\n",
    "        Q = simple_query_expansion([f], all_rmac_features, idxs, top_k=topK)\n",
    "        #print(Q.shape)\n",
    "        #idxs, rank_dists, rank_names = compute_distances(Q, crow_features, crow_files)\n",
    "        idxs, rank_dists, rank_names = compute_cosin_distance(Q, all_rmac_features, rmac_files)\n",
    "        #print(rank_names[:topK])\n",
    "        #ap = result_precision(pos,neg,rank_names[:topK])\n",
    "        ap = result_ap(pos,neg,rank_names[:topK])\n",
    "        #print('    qe ap: %f ' % (ap,))\n",
    "    \n",
    "    if do_RE:\n",
    "        rank_names = reranking(Q, all_rmac_features, idxs, rank_names)\n",
    "        #print(rank_names[:10])\n",
    "        #ap = result_precision(pos,neg,rank_names[:topK])\n",
    "        ap = result_ap(pos,neg,rank_names[:topK])\n",
    "        #print('rerank ap: %f ' % (ap,))\n",
    "    aps.append(ap)\n",
    "    #print('query name: %s , ap %f ' %(query_list[i],ap))\n",
    "\n",
    "print('mAP %f' % (np.array(aps).sum()/len(aps),))"
   ]
  },
  {
   "cell_type": "code",
   "execution_count": null,
   "metadata": {},
   "outputs": [],
   "source": []
  },
  {
   "cell_type": "code",
   "execution_count": null,
   "metadata": {},
   "outputs": [],
   "source": []
  }
 ],
 "metadata": {
  "kernelspec": {
   "display_name": "Python 3",
   "language": "python",
   "name": "python3"
  },
  "language_info": {
   "codemirror_mode": {
    "name": "ipython",
    "version": 3
   },
   "file_extension": ".py",
   "mimetype": "text/x-python",
   "name": "python",
   "nbconvert_exporter": "python",
   "pygments_lexer": "ipython3",
   "version": "3.5.4"
  }
 },
 "nbformat": 4,
 "nbformat_minor": 2
}
